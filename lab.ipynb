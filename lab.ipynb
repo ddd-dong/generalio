{
 "cells": [
  {
   "cell_type": "code",
   "execution_count": 1,
   "metadata": {},
   "outputs": [
    {
     "name": "stdout",
     "output_type": "stream",
     "text": [
      "pygame 2.6.1 (SDL 2.28.4, Python 3.11.11)\n",
      "Hello from the pygame community. https://www.pygame.org/contribute.html\n"
     ]
    }
   ],
   "source": [
    "from pygame_cli.main import main\n",
    "main()"
   ]
  },
  {
   "cell_type": "code",
   "execution_count": 2,
   "metadata": {},
   "outputs": [],
   "source": [
    "from game.board import  GameBoard\n",
    "from game.player import Player\n",
    "from game.game_types import  Tile,TileType\n",
    "\n",
    "PLAYERNUMBER = 4\n",
    "players = []\n",
    "for i in range(PLAYERNUMBER):\n",
    "    players.append(Player(f\"player-{i}\",i))\n",
    "test_board = GameBoard(25,25,players,city_num=20,mountain_density=0.3,cities_fairness=0.8)"
   ]
  },
  {
   "cell_type": "code",
   "execution_count": 3,
   "metadata": {},
   "outputs": [
    {
     "name": "stdout",
     "output_type": "stream",
     "text": [
      "(True, 'Map initialized successfully')\n",
      "GameBoard(25 X 25, player: 4)\n",
      ". . . # # # C # . . . . # # . # . . . # . . . # # \n",
      ". . # # . . . . # . # . # . . . . . . . . . . C . \n",
      ". . # . . # # . . # . . . . . . # # . . C . . # . \n",
      ". . . . # . C # . . . . # C . . . . . . # # . G # \n",
      "# . . . # . . . # # . . # . . . # . . # # . C . . \n",
      "# # # . . . . # # . . . . # . . # . . . . # # # . \n",
      ". # . # . . . # . . # . . # . . . # # . . . . . . \n",
      ". # . . # . . . . . # . . . . # . . . . . . # # # \n",
      ". . . . . . . . . . . # # . # . . . # . . . . . # \n",
      ". # . . # # G # . . . . # . # # # # . . C . C # # \n",
      ". . # . . . . # . . . # C . . . . # . . . # . . # \n",
      "# . . . . # . . # . . . # . C # . . . . # # . . . \n",
      ". . C # . . # # . . . # # . . # . . . # . . # . # \n",
      ". # # C . # . # # . # . . # # # # . # . . # . # # \n",
      ". . # . # . . # # . . # . . # # # . # . . # . . # \n",
      ". . . . . . . . . . . . . # . # . # . # . . . . # \n",
      "C # . C # # # . . # . # . . . # . . . . # # # . . \n",
      ". . . . . C # # . . . . # C . . # . . . . . . . . \n",
      ". . . # # # . . . . . . . # . # G . # # . . C . . \n",
      ". . . . # . . . . . . . . . # . . . . . . . . . . \n",
      ". # . # . . . . . . # . # # . . # C . . . . . . # \n",
      "# . G . . . # . # . . . # . # # # . . # . . . . . \n",
      "# . # . . . # # . . . . . C . . . . # . . # . . . \n",
      ". C # . . # . . . . . # . . . . . . . # . . # . . \n",
      "# # . . . . . . . . . . # # . . # # . . # . . # . \n",
      "\n"
     ]
    }
   ],
   "source": [
    "print(test_board.initialize_map())\n",
    "print(test_board)\n"
   ]
  },
  {
   "cell_type": "code",
   "execution_count": 3,
   "metadata": {},
   "outputs": [
    {
     "name": "stdout",
     "output_type": "stream",
     "text": [
      "c:\\Users\\user\\Desktop\\webmakeing\\generalsio/\n",
      "Map saved to c:\\Users\\user\\Desktop\\webmakeing\\generalsio/\\map_files_tst\\test_map.pkl\n"
     ]
    }
   ],
   "source": [
    "test_board.save_map(\"\\\\map_files_tst\\\\\",\"test_map.pkl\")"
   ]
  },
  {
   "cell_type": "code",
   "execution_count": 4,
   "metadata": {},
   "outputs": [
    {
     "name": "stdout",
     "output_type": "stream",
     "text": [
      "Map loaded from \\map_files_tst\\test_map.pkl, the seting will be overwritten\n",
      "Map loaded successfully from \\map_files_tst\\test_map.pkl\n",
      "GameBoard(25 X 25, player: 4)\n",
      ". . . . . C . . # . . # . . . . # # . . # . # # . \n",
      ". . # # # # . # . . . . . . # . . . . . . . # # . \n",
      ". . # # # . C . . . . . # . # . . . # . . # # . . \n",
      ". . . # # # . . C # # . . # . . # C . # # G C . # \n",
      ". # . . . . . # # . . . . # # . . # C . . . . . . \n",
      "# . # . . . # . . . . # . # . # # # # # . # # . . \n",
      ". . # . . . # # # . # # . # . . . . # # . . C . . \n",
      ". . . . # # # # # . # # . . # # . . . . # . . . . \n",
      ". # . # . . . . # . # # . . . . . # . . . # . . . \n",
      ". . . . # # . . . . . . G # . . # . . # . . . . . \n",
      ". . # # . . . . . # . . . . . # # # . # . . . . # \n",
      ". . . . . # # C . . . # . . # . # . # . . # . . # \n",
      ". # . . # . # . . # # . C . # . . . . . . # . # . \n",
      ". # # # . . . . . # . . . . # # # . . . . # # . . \n",
      "# # # # . . # # . . C . . . . # . . . . C . . # . \n",
      ". . . . . . . # . . . . # C . . . . # # . # . . . \n",
      ". C . # # . # . . C # . . . # . # . # . # . . . . \n",
      ". # C G # . . . . . . . . . . . # . C . . . . . . \n",
      ". . . # # # . # . # . . C . # . # . # . . # # . . \n",
      ". # . . . . # # . # # . . . C . . # . . . # . # . \n",
      ". . . . . # # . # . . . . . . . . . # G . . . . . \n",
      ". . # # . . . . . . . . . # C # . # . . . # . . # \n",
      "# . . # . C . . . . . # . # # . . . # . . . # # . \n",
      ". # . . . . . . # . . # # . . . . . . . . . . # . \n",
      ". . . . # # . # . . . # . . . # # . . . # # . . . \n",
      "\n"
     ]
    }
   ],
   "source": [
    "test_board.load_map(\"\\\\map_files_tst\\\\\",\"test_map.pkl\")\n",
    "print(test_board)"
   ]
  },
  {
   "cell_type": "code",
   "execution_count": 12,
   "metadata": {},
   "outputs": [
    {
     "data": {
      "text/plain": [
       "[Tile((9,2), TileType.CITY, owner=None, troops=45),\n",
       " Tile((15,7), TileType.CITY, owner=None, troops=42),\n",
       " Tile((4,4), TileType.CITY, owner=None, troops=50),\n",
       " Tile((12,9), TileType.CITY, owner=None, troops=40),\n",
       " Tile((11,22), TileType.CITY, owner=None, troops=50),\n",
       " Tile((18,22), TileType.CITY, owner=None, troops=50),\n",
       " Tile((19,20), TileType.CITY, owner=None, troops=42),\n",
       " Tile((22,23), TileType.CITY, owner=None, troops=44),\n",
       " Tile((2,17), TileType.CITY, owner=None, troops=43),\n",
       " Tile((6,23), TileType.CITY, owner=None, troops=43),\n",
       " Tile((5,22), TileType.CITY, owner=None, troops=47),\n",
       " Tile((1,22), TileType.CITY, owner=None, troops=45),\n",
       " Tile((22,19), TileType.CITY, owner=None, troops=45),\n",
       " Tile((19,16), TileType.CITY, owner=None, troops=40),\n",
       " Tile((21,20), TileType.CITY, owner=None, troops=44),\n",
       " Tile((24,17), TileType.CITY, owner=None, troops=42),\n",
       " Tile((2,5), TileType.CITY, owner=None, troops=50),\n",
       " Tile((0,14), TileType.CITY, owner=None, troops=41),\n",
       " Tile((22,2), TileType.CITY, owner=None, troops=41),\n",
       " Tile((3,12), TileType.CITY, owner=None, troops=40)]"
      ]
     },
     "execution_count": 12,
     "metadata": {},
     "output_type": "execute_result"
    }
   ],
   "source": [
    "test_board.cities\n"
   ]
  },
  {
   "cell_type": "markdown",
   "metadata": {},
   "source": [
    "```\n",
    ". . . . . . G C . . . . C . . # . . . . . . . . . \n",
    ". # . . . # . . . # . . # . # . . . . . . . . . # \n",
    ". # . . . # # . # # . # . . . . . . . # . . . # C \n",
    "# . . . . # C # . . . # . # # . . # . . . . . # . \n",
    ". # . # . . . C . . # . . . . . . . . # . . . . . \n",
    ". # . . . . . # . C . . . # . C . . # . . . . # # \n",
    ". . . # . . . # # . . . . . # . # # # # # # # . . \n",
    ". # . . # . . # . . . # # . # # . . . # . . C . . \n",
    "# . . . . # # . . # # . . . . . # . . . . . . # . \n",
    "# . # . # # . # # . . . . . . . # # . # . # C # . \n",
    ". # . # # C . . . . . G . # . . . . C # . # # # . \n",
    ". # . C . . . . . # . . . # . # . . . . # # . # C \n",
    ". . . # . . . # . # . . # . . . . . . # . # . . # \n",
    ". . # . . # # . . # C . . # # . # . # # . # # . . \n",
    ". . # . . . . . . . . . . . . . . . . # . . . . # \n",
    ". # . . . . # . . . . . # . . . . . . # . G . . # \n",
    ". # . . . . . . # . # . . # . . . # . . . . . . # \n",
    "# . . . . # . . . # . # . . # . . # . . . . . # # \n",
    ". . # # # # # # . . . C . . . # . . # . # . . # # \n",
    ". . . # . . . . # . . # . # . # . . # . # . C C . \n",
    ". . . . . . . . . # # . . . . . C # . . . . . . . \n",
    "# . # # . . . . . # . . . . C # . # . # . . . . . \n",
    ". . # # . . . C . . . . . . . . # . . . # . . . # \n",
    ". . . # . . # . # . # . . G . . . . . # # # . . . \n",
    ". # # . . . . . . . . . . . . . . . . . # # # . . \n",
    "\n",
    "```"
   ]
  },
  {
   "cell_type": "code",
   "execution_count": 8,
   "metadata": {},
   "outputs": [
    {
     "data": {
      "text/plain": [
       "GameBoard(25 X 25, player: 4)\n",
       "# . . . . # . . . . . G C . . # . . . . # # # . # \n",
       "# # . . . . # . . . # . . . C . # # . # C # . . # \n",
       "# . . . . # . . . . . . C C . . . # . . . . . . . \n",
       ". . . . . . . . . . # # . # . # # . . # # # . # . \n",
       ". . . . . . # . . . # . . # . # # . . . . # . . # \n",
       ". . . # . . . . . . . . . # # # . . . . # . . # . \n",
       ". . C # . # . . # # # . . . . # # C . # # C # . . \n",
       ". . . # . . . . # . . . # . # # . . . C # G . . # \n",
       "# # . . . . . . # . . # . . . . . . . # . . . # . \n",
       ". . # . . . . . . # . # . . . . . . # # . . . # . \n",
       ". . . . # . . . . . # . . # . # . . . # # # . # . \n",
       ". . . # . . . . . # # . . # # . # . . . # . . . . \n",
       "# . # . . . . C # . C . . . . . # . . # # # . # . \n",
       ". C # . # G . . . . . . . # # # . # . . # # . . . \n",
       ". . . C . # . . . . . . # . . . . . # . # # . . . \n",
       ". . . . # . . . . . # # . # . # . . # # # . . . . \n",
       ". . . # . . . # . . . # . . . . # . . . . . . . # \n",
       ". . . # . . . . . . . # # . . . # # # . # . . . # \n",
       "# # . . . . . . . # . . . . C . . . . . . . . . . \n",
       "# . . . . . . # . # C . C # # . . . . . # # C . # \n",
       ". . . # . . . . . . # . # . # . . . . # . . . # # \n",
       ". # # # # . # . . . # . C . . . . . . . . # . . . \n",
       ". # . # . . # . # . . . . . # . # # . . . . # . . \n",
       ". # . . . . . # # # . . C . . . . . # # . # . # . \n",
       "# . . # . . . . # . G . # . . # # . . # # . . . C "
      ]
     },
     "execution_count": 8,
     "metadata": {},
     "output_type": "execute_result"
    }
   ],
   "source": [
    "test_board"
   ]
  },
  {
   "cell_type": "code",
   "execution_count": 11,
   "metadata": {},
   "outputs": [
    {
     "name": "stdout",
     "output_type": "stream",
     "text": [
      "# . . . . . . # . . . . # # . . # . . . \n",
      ". . # . . . . . . . # . # # . # . . . # \n",
      ". C . . . . . . . # # # # # . . # . . . \n",
      "C . # . . . . . . . . . # # . # # . . . \n",
      "# # # . # . # . C . . . C . . . . . # . \n",
      ". . . # C . . . . # # G . . # # . . . . \n",
      ". C # . . . . # # C . . # . # . # # # # \n",
      ". . . . . # . # . . # . . # # . . # # . \n",
      ". . . # . # . . . # # . . # # . . . . . \n",
      ". . # # C . . . . # . . # . # # . . # . \n",
      ". # C C . . . . . . . # # . . . . # # . \n",
      "# . . # # # . . # # . # . . # . . . C # \n",
      "# . . . . # . . . . C C . . . . # # # . \n",
      ". # . . . . # . # # . . . # . # # . . C \n",
      "C . . . . . . . . . . . # # . . . . # # \n",
      "# # . . # # # # # . . . . . . # # . # # \n",
      ". . C . # . . # # # . C . # . # # . . . \n",
      ". # # . C . . . # # . . . . # # C . # . \n",
      ". G . . . C . # . . . # # . # C . C . C \n",
      ". # # . C . # # # C . . . . . # G . # # \n",
      "\n"
     ]
    }
   ],
   "source": [
    "output = \"\"\n",
    "for y in range(test_board.height):\n",
    "            for x in range(test_board.width):\n",
    "                tile = test_board.map[x][y]\n",
    "                output += tile.state.value\n",
    "                output += \" \"\n",
    "            output += \"\\n\"\n",
    "print(output)"
   ]
  },
  {
   "cell_type": "code",
   "execution_count": null,
   "metadata": {},
   "outputs": [],
   "source": []
  },
  {
   "cell_type": "code",
   "execution_count": 3,
   "metadata": {},
   "outputs": [],
   "source": [
    "test_board.generals[0].troops = 5"
   ]
  },
  {
   "cell_type": "code",
   "execution_count": 4,
   "metadata": {},
   "outputs": [
    {
     "data": {
      "text/plain": [
       "Player 0 (player-0)\n",
       "Color: None\n",
       "General: Tile((9,7), TileType.GENERAL, owner=0, troops=5)\n",
       "Troops: 0 Cities number: 0\n",
       "Cities: []"
      ]
     },
     "execution_count": 4,
     "metadata": {},
     "output_type": "execute_result"
    }
   ],
   "source": [
    "players[0]"
   ]
  },
  {
   "cell_type": "code",
   "execution_count": 5,
   "metadata": {},
   "outputs": [
    {
     "data": {
      "text/plain": [
       "Tile((9,7), TileType.GENERAL, owner=0, troops=5)"
      ]
     },
     "execution_count": 5,
     "metadata": {},
     "output_type": "execute_result"
    }
   ],
   "source": [
    "test_board[(9,7)]"
   ]
  },
  {
   "cell_type": "code",
   "execution_count": 6,
   "metadata": {},
   "outputs": [
    {
     "data": {
      "text/plain": [
       "Tile((3,0), TileType.GENERAL, owner=2, troops=0)"
      ]
     },
     "execution_count": 6,
     "metadata": {},
     "output_type": "execute_result"
    }
   ],
   "source": [
    "test_board[(3,0)]"
   ]
  }
 ],
 "metadata": {
  "kernelspec": {
   "display_name": "generals",
   "language": "python",
   "name": "python3"
  },
  "language_info": {
   "codemirror_mode": {
    "name": "ipython",
    "version": 3
   },
   "file_extension": ".py",
   "mimetype": "text/x-python",
   "name": "python",
   "nbconvert_exporter": "python",
   "pygments_lexer": "ipython3",
   "version": "3.11.11"
  }
 },
 "nbformat": 4,
 "nbformat_minor": 2
}
