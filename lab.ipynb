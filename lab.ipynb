{
 "cells": [
  {
   "cell_type": "code",
   "execution_count": 7,
   "metadata": {},
   "outputs": [],
   "source": [
    "from board import  GameBoard\n",
    "from player import Player\n",
    "from game_types import  Tile,TileType\n",
    "\n",
    "PLAYERNUMBER = 4\n",
    "players = []\n",
    "for i in range(PLAYERNUMBER):\n",
    "    players.append(Player(f\"player-{i}\",i))\n",
    "test_board = GameBoard(20,20,players,city_num=15,mountain_density=0.4,cities_fairness=0.8)"
   ]
  },
  {
   "cell_type": "code",
   "execution_count": 8,
   "metadata": {},
   "outputs": [
    {
     "name": "stdout",
     "output_type": "stream",
     "text": [
      "cities_num_in_circle: 3, cities_num_out_circle: 3\n",
      "(True, 'Map initialized successfully')\n",
      "GameBoard(20 X 20, player: 4)\n",
      "# . . . C . . # # # # . . . . # . C G . \n",
      ". . . . # # # . . # . . . # . # # # # . \n",
      "# . . . # # . C . . . . # . # . . # . . \n",
      ". . . G . . . . . C . # . . . . . . . C \n",
      "# # . # # . . . . . . . . # . # # C . . \n",
      ". . . . # # . . # # # . # . . # . . # . \n",
      ". # # . . . . . . . # . . . # . . . # # \n",
      "# . . # # . . . C # . . . . . . . . . . \n",
      ". # . # . # . . . . # . # # . . . . . . \n",
      ". . . # . . . # . . C . . . # . . . . # \n",
      "# . # # . . . . . . . . . . . # C # . . \n",
      ". . . . . . . . # # # . G . . . . # # # \n",
      "# . . # . . # . # . # . . . . . . . . . \n",
      "# # . # # . # # . . # # . . . . . . . . \n",
      ". . . # . . . . . . # # . # . # # # # . \n",
      "# . # . # . . # # C . . # . . . . # . . \n",
      "C # . . # # . . . . # # . # . # # . C . \n",
      ". C # . . . # . # . . # . . . . . . C . \n",
      ". G . . # . . . . . # # # . . . . . . . \n",
      ". . # . . . C . # . . . . # # # . # . . \n",
      "\n"
     ]
    }
   ],
   "source": [
    "print(test_board.initialize_map())\n",
    "print(test_board)\n"
   ]
  },
  {
   "cell_type": "code",
   "execution_count": 6,
   "metadata": {},
   "outputs": [
    {
     "data": {
      "text/plain": [
       "[Tile((4,5), TileType.CITY, owner=None, troops=43),\n",
       " Tile((11,12), TileType.CITY, owner=None, troops=48),\n",
       " Tile((9,6), TileType.CITY, owner=None, troops=47),\n",
       " Tile((8,4), TileType.CITY, owner=None, troops=40),\n",
       " Tile((12,4), TileType.CITY, owner=None, troops=49),\n",
       " Tile((4,17), TileType.CITY, owner=None, troops=43),\n",
       " Tile((4,19), TileType.CITY, owner=None, troops=46),\n",
       " Tile((5,18), TileType.CITY, owner=None, troops=43),\n",
       " Tile((0,14), TileType.CITY, owner=None, troops=42),\n",
       " Tile((2,16), TileType.CITY, owner=None, troops=43),\n",
       " Tile((19,18), TileType.CITY, owner=None, troops=42),\n",
       " Tile((16,17), TileType.CITY, owner=None, troops=48),\n",
       " Tile((15,18), TileType.CITY, owner=None, troops=41),\n",
       " Tile((9,19), TileType.CITY, owner=None, troops=44),\n",
       " Tile((17,18), TileType.CITY, owner=None, troops=45),\n",
       " Tile((18,11), TileType.CITY, owner=None, troops=44),\n",
       " Tile((11,16), TileType.CITY, owner=None, troops=42),\n",
       " Tile((0,3), TileType.CITY, owner=None, troops=42),\n",
       " Tile((1,2), TileType.CITY, owner=None, troops=50),\n",
       " Tile((1,6), TileType.CITY, owner=None, troops=45),\n",
       " Tile((3,10), TileType.CITY, owner=None, troops=46),\n",
       " Tile((4,9), TileType.CITY, owner=None, troops=50),\n",
       " Tile((19,13), TileType.CITY, owner=None, troops=41),\n",
       " Tile((2,10), TileType.CITY, owner=None, troops=42),\n",
       " Tile((10,12), TileType.CITY, owner=None, troops=41)]"
      ]
     },
     "execution_count": 6,
     "metadata": {},
     "output_type": "execute_result"
    }
   ],
   "source": [
    "test_board.cities\n"
   ]
  },
  {
   "cell_type": "code",
   "execution_count": 12,
   "metadata": {},
   "outputs": [
    {
     "data": {
      "text/plain": [
       "GameBoard(20 X 20, player: 3)\n",
       "# . . . . . . # . . . . # # . . # . . . \n",
       ". . # . . . . . . . # . # # . # . . . # \n",
       ". C . . . . . . . # # # # # . . # . . . \n",
       "C . # . . . . . . . . . # # . # # . . . \n",
       "# # # . # . # . C . . . C . . . . . # . \n",
       ". . . # C . . . . # # G . . # # . . . . \n",
       ". C # . . . . # # C . . # . # . # # # # \n",
       ". . . . . # . # . . # . . # # . . # # . \n",
       ". . . # . # . . . # # . . # # . . . . . \n",
       ". . # # C . . . . # . . # . # # . . # . \n",
       ". # C C . . . . . . . # # . . . . # # . \n",
       "# . . # # # . . # # . # . . # . . . C # \n",
       "# . . . . # . . . . C C . . . . # # # . \n",
       ". # . . . . # . # # . . . # . # # . . C \n",
       "C . . . . . . . . . . . # # . . . . # # \n",
       "# # . . # # # # # . . . . . . # # . # # \n",
       ". . C . # . . # # # . C . # . # # . . . \n",
       ". # # . C . . . # # . . . . # # C . # . \n",
       ". G . . . C . # . . . # # . # C . C . C \n",
       ". # # . C . # # # C . . . . . # G . # # "
      ]
     },
     "execution_count": 12,
     "metadata": {},
     "output_type": "execute_result"
    }
   ],
   "source": [
    "test_board"
   ]
  },
  {
   "cell_type": "code",
   "execution_count": 11,
   "metadata": {},
   "outputs": [
    {
     "name": "stdout",
     "output_type": "stream",
     "text": [
      "# . . . . . . # . . . . # # . . # . . . \n",
      ". . # . . . . . . . # . # # . # . . . # \n",
      ". C . . . . . . . # # # # # . . # . . . \n",
      "C . # . . . . . . . . . # # . # # . . . \n",
      "# # # . # . # . C . . . C . . . . . # . \n",
      ". . . # C . . . . # # G . . # # . . . . \n",
      ". C # . . . . # # C . . # . # . # # # # \n",
      ". . . . . # . # . . # . . # # . . # # . \n",
      ". . . # . # . . . # # . . # # . . . . . \n",
      ". . # # C . . . . # . . # . # # . . # . \n",
      ". # C C . . . . . . . # # . . . . # # . \n",
      "# . . # # # . . # # . # . . # . . . C # \n",
      "# . . . . # . . . . C C . . . . # # # . \n",
      ". # . . . . # . # # . . . # . # # . . C \n",
      "C . . . . . . . . . . . # # . . . . # # \n",
      "# # . . # # # # # . . . . . . # # . # # \n",
      ". . C . # . . # # # . C . # . # # . . . \n",
      ". # # . C . . . # # . . . . # # C . # . \n",
      ". G . . . C . # . . . # # . # C . C . C \n",
      ". # # . C . # # # C . . . . . # G . # # \n",
      "\n"
     ]
    }
   ],
   "source": [
    "output = \"\"\n",
    "for y in range(test_board.height):\n",
    "            for x in range(test_board.width):\n",
    "                tile = test_board.map[x][y]\n",
    "                output += tile.state.value\n",
    "                output += \" \"\n",
    "            output += \"\\n\"\n",
    "print(output)"
   ]
  },
  {
   "cell_type": "code",
   "execution_count": null,
   "metadata": {},
   "outputs": [],
   "source": []
  },
  {
   "cell_type": "code",
   "execution_count": 3,
   "metadata": {},
   "outputs": [],
   "source": [
    "test_board.generals[0].troops = 5"
   ]
  },
  {
   "cell_type": "code",
   "execution_count": 4,
   "metadata": {},
   "outputs": [
    {
     "data": {
      "text/plain": [
       "Player 0 (player-0)\n",
       "Color: None\n",
       "General: Tile((9,7), TileType.GENERAL, owner=0, troops=5)\n",
       "Troops: 0 Cities number: 0\n",
       "Cities: []"
      ]
     },
     "execution_count": 4,
     "metadata": {},
     "output_type": "execute_result"
    }
   ],
   "source": [
    "players[0]"
   ]
  },
  {
   "cell_type": "code",
   "execution_count": 5,
   "metadata": {},
   "outputs": [
    {
     "data": {
      "text/plain": [
       "Tile((9,7), TileType.GENERAL, owner=0, troops=5)"
      ]
     },
     "execution_count": 5,
     "metadata": {},
     "output_type": "execute_result"
    }
   ],
   "source": [
    "test_board[(9,7)]"
   ]
  },
  {
   "cell_type": "code",
   "execution_count": 6,
   "metadata": {},
   "outputs": [
    {
     "data": {
      "text/plain": [
       "Tile((3,0), TileType.GENERAL, owner=2, troops=0)"
      ]
     },
     "execution_count": 6,
     "metadata": {},
     "output_type": "execute_result"
    }
   ],
   "source": [
    "test_board[(3,0)]"
   ]
  }
 ],
 "metadata": {
  "kernelspec": {
   "display_name": "generals",
   "language": "python",
   "name": "python3"
  },
  "language_info": {
   "codemirror_mode": {
    "name": "ipython",
    "version": 3
   },
   "file_extension": ".py",
   "mimetype": "text/x-python",
   "name": "python",
   "nbconvert_exporter": "python",
   "pygments_lexer": "ipython3",
   "version": "3.11.11"
  }
 },
 "nbformat": 4,
 "nbformat_minor": 2
}
