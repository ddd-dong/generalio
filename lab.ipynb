{
 "cells": [
  {
   "cell_type": "code",
   "execution_count": 1,
   "metadata": {},
   "outputs": [],
   "source": [
    "from game.board import  GameBoard\n",
    "from game.player import Player_Info\n",
    "from game.game_types import  Tile,TileType,Direction\n",
    "\n",
    "PLAYERNUMBER = 2\n",
    "players = []\n",
    "for i in range(PLAYERNUMBER):\n",
    "    players.append(Player_Info(f\"player-{i}\",i))\n",
    "test_board = GameBoard(10,10,players,city_num=5,mountain_density=0.3,cities_fairness=0.8)"
   ]
  },
  {
   "cell_type": "code",
   "execution_count": 3,
   "metadata": {},
   "outputs": [
    {
     "name": "stdout",
     "output_type": "stream",
     "text": [
      "(True, 'Map initialized successfully')\n",
      "GameBoard(10 X 10, player: 2)\n",
      ". C # . # . # . . G \n",
      "# . # . . . C . # # \n",
      "# . . . # . . # . # \n",
      ". . . . . . . # . # \n",
      ". C # . . . . . . . \n",
      ". . # . . . # . . # \n",
      "# . . # . # . # . . \n",
      "# # # # # # . . . C \n",
      ". . G . . . . # . . \n",
      "# . # C . # . # . . \n",
      "\n"
     ]
    }
   ],
   "source": [
    "print(test_board.initialize_map())\n",
    "print(test_board)"
   ]
  },
  {
   "cell_type": "code",
   "execution_count": 4,
   "metadata": {},
   "outputs": [],
   "source": [
    "from game.engine import GameEngine\n",
    "test_engine = GameEngine(test_board)"
   ]
  },
  {
   "cell_type": "code",
   "execution_count": 20,
   "metadata": {},
   "outputs": [],
   "source": [
    "test_engine.add_premove(players[1],9,0,Direction.LEFT)"
   ]
  },
  {
   "cell_type": "code",
   "execution_count": 24,
   "metadata": {},
   "outputs": [
    {
     "name": "stdout",
     "output_type": "stream",
     "text": [
      "(From move())Moving 1 troops from Tile((9,0), TileType.GENERAL, owner=1, troops=3) to Tile((8,0), TileType.EMPTY, owner=1, troops=5)\n"
     ]
    }
   ],
   "source": [
    "test_engine.process_turn()"
   ]
  },
  {
   "cell_type": "code",
   "execution_count": 25,
   "metadata": {},
   "outputs": [
    {
     "name": "stdout",
     "output_type": "stream",
     "text": [
      "GameBoard(10 X 10, player: 2)\n",
      "(.,00,99) (C,46,99) (#,00,99) (.,00,99) (#,00,99) (.,00,99) (#,00,99) (.,00,99) (.,06,01) (G,02,01) \n",
      "(#,00,99) (.,00,99) (#,00,99) (.,00,99) (.,00,99) (.,00,99) (C,51,99) (.,00,99) (#,00,99) (#,00,99) \n",
      "(#,00,99) (.,00,99) (.,00,99) (.,00,99) (#,00,99) (.,00,99) (.,00,99) (#,00,99) (.,00,99) (#,00,99) \n",
      "(.,00,99) (.,00,99) (.,00,99) (.,00,99) (.,00,99) (.,00,99) (.,00,99) (#,00,99) (.,00,99) (#,00,99) \n",
      "(.,00,99) (C,50,99) (#,00,99) (.,00,99) (.,00,99) (.,00,99) (.,00,99) (.,00,99) (.,00,99) (.,00,99) \n",
      "(.,00,99) (.,00,99) (#,00,99) (.,00,99) (.,00,99) (.,00,99) (#,00,99) (.,00,99) (.,00,99) (#,00,99) \n",
      "(#,00,99) (.,00,99) (.,00,99) (#,00,99) (.,00,99) (#,00,99) (.,00,99) (#,00,99) (.,00,99) (.,00,99) \n",
      "(#,00,99) (#,00,99) (#,00,99) (#,00,99) (#,00,99) (#,00,99) (.,00,99) (.,00,99) (.,00,99) (C,48,99) \n",
      "(.,00,99) (.,00,99) (G,08,00) (.,00,99) (.,00,99) (.,00,99) (.,00,99) (#,00,99) (.,00,99) (.,00,99) \n",
      "(#,00,99) (.,00,99) (#,00,99) (C,43,99) (.,00,99) (#,00,99) (.,00,99) (#,00,99) (.,00,99) (.,00,99) \n",
      "\n"
     ]
    }
   ],
   "source": [
    "\n",
    "# print(test_board)\n",
    "print(test_board.print_map())\n"
   ]
  },
  {
   "cell_type": "code",
   "execution_count": 26,
   "metadata": {},
   "outputs": [],
   "source": [
    "moves = [(players[1],test_board[(2,1)],Direction.DOWN,2),()]"
   ]
  },
  {
   "cell_type": "code",
   "execution_count": 6,
   "metadata": {},
   "outputs": [],
   "source": [
    "moves = [(),()]"
   ]
  },
  {
   "cell_type": "code",
   "execution_count": 27,
   "metadata": {},
   "outputs": [
    {
     "name": "stdout",
     "output_type": "stream",
     "text": [
      "(From move())Moving 2 troops from Tile((2,1), TileType.EMPTY, owner=1, troops=15) to Tile((2,2), TileType.EMPTY, owner=None, troops=0)\n",
      "[True, True]\n",
      "GameBoard(10 X 10, player: 2)\n",
      "(.,00,99) (.,00,99) (#,00,99) (.,00,99) (.,00,99) (.,00,99) (.,00,99) (.,00,99) (C,41,99) (.,00,99) \n",
      "(.,00,99) (G,03,01) (.,13,01) (#,00,99) (.,00,99) (.,00,99) (.,00,99) (#,00,99) (.,00,99) (#,00,99) \n",
      "(C,40,99) (.,00,99) (.,02,01) (.,00,99) (.,00,99) (.,00,99) (.,00,99) (#,00,99) (.,00,99) (.,00,99) \n",
      "(#,00,99) (.,00,99) (#,00,99) (.,00,99) (.,00,99) (#,00,99) (#,00,99) (.,00,99) (.,00,99) (.,00,99) \n",
      "(#,00,99) (.,00,99) (#,00,99) (#,00,99) (.,00,99) (#,00,99) (#,00,99) (.,00,99) (.,00,99) (#,00,99) \n",
      "(.,00,99) (#,00,99) (C,41,99) (.,00,99) (.,00,99) (.,00,99) (.,00,99) (.,00,99) (#,00,99) (#,00,99) \n",
      "(.,00,99) (.,00,99) (.,00,99) (.,00,99) (.,00,99) (#,00,99) (.,00,99) (.,00,99) (.,00,99) (C,42,99) \n",
      "(#,00,99) (.,00,99) (#,00,99) (#,00,99) (#,00,99) (#,00,99) (#,00,99) (#,00,99) (.,00,99) (.,00,99) \n",
      "(#,00,99) (#,00,99) (.,00,99) (.,00,99) (.,00,99) (.,00,99) (.,00,99) (#,00,99) (.,00,99) (#,00,99) \n",
      "(.,00,99) (.,00,99) (.,00,99) (.,00,99) (.,00,99) (C,51,99) (.,00,99) (.,00,99) (G,18,00) (.,00,99) \n",
      "\n"
     ]
    }
   ],
   "source": [
    "print(test_board.next_turn(moves))\n",
    "print(test_board.print_map())"
   ]
  },
  {
   "cell_type": "code",
   "execution_count": null,
   "metadata": {},
   "outputs": [],
   "source": [
    "\n"
   ]
  },
  {
   "cell_type": "code",
   "execution_count": 28,
   "metadata": {},
   "outputs": [
    {
     "data": {
      "text/plain": [
       "[[(Tile((0,0), TileType.GENERAL, owner=0, troops=13),\n",
       "   Tile((1,0), TileType.EMPTY, owner=None, troops=0),\n",
       "   12)],\n",
       " []]"
      ]
     },
     "execution_count": 28,
     "metadata": {},
     "output_type": "execute_result"
    }
   ],
   "source": [
    "test_board.move_queue"
   ]
  },
  {
   "cell_type": "code",
   "execution_count": 12,
   "metadata": {},
   "outputs": [
    {
     "data": {
      "text/plain": [
       "[Tile((9,2), TileType.CITY, owner=None, troops=45),\n",
       " Tile((15,7), TileType.CITY, owner=None, troops=42),\n",
       " Tile((4,4), TileType.CITY, owner=None, troops=50),\n",
       " Tile((12,9), TileType.CITY, owner=None, troops=40),\n",
       " Tile((11,22), TileType.CITY, owner=None, troops=50),\n",
       " Tile((18,22), TileType.CITY, owner=None, troops=50),\n",
       " Tile((19,20), TileType.CITY, owner=None, troops=42),\n",
       " Tile((22,23), TileType.CITY, owner=None, troops=44),\n",
       " Tile((2,17), TileType.CITY, owner=None, troops=43),\n",
       " Tile((6,23), TileType.CITY, owner=None, troops=43),\n",
       " Tile((5,22), TileType.CITY, owner=None, troops=47),\n",
       " Tile((1,22), TileType.CITY, owner=None, troops=45),\n",
       " Tile((22,19), TileType.CITY, owner=None, troops=45),\n",
       " Tile((19,16), TileType.CITY, owner=None, troops=40),\n",
       " Tile((21,20), TileType.CITY, owner=None, troops=44),\n",
       " Tile((24,17), TileType.CITY, owner=None, troops=42),\n",
       " Tile((2,5), TileType.CITY, owner=None, troops=50),\n",
       " Tile((0,14), TileType.CITY, owner=None, troops=41),\n",
       " Tile((22,2), TileType.CITY, owner=None, troops=41),\n",
       " Tile((3,12), TileType.CITY, owner=None, troops=40)]"
      ]
     },
     "execution_count": 12,
     "metadata": {},
     "output_type": "execute_result"
    }
   ],
   "source": [
    "test_board.cities\n"
   ]
  },
  {
   "cell_type": "markdown",
   "metadata": {},
   "source": [
    "```\n",
    ". . . . . . G C . . . . C . . # . . . . . . . . . \n",
    ". # . . . # . . . # . . # . # . . . . . . . . . # \n",
    ". # . . . # # . # # . # . . . . . . . # . . . # C \n",
    "# . . . . # C # . . . # . # # . . # . . . . . # . \n",
    ". # . # . . . C . . # . . . . . . . . # . . . . . \n",
    ". # . . . . . # . C . . . # . C . . # . . . . # # \n",
    ". . . # . . . # # . . . . . # . # # # # # # # . . \n",
    ". # . . # . . # . . . # # . # # . . . # . . C . . \n",
    "# . . . . # # . . # # . . . . . # . . . . . . # . \n",
    "# . # . # # . # # . . . . . . . # # . # . # C # . \n",
    ". # . # # C . . . . . G . # . . . . C # . # # # . \n",
    ". # . C . . . . . # . . . # . # . . . . # # . # C \n",
    ". . . # . . . # . # . . # . . . . . . # . # . . # \n",
    ". . # . . # # . . # C . . # # . # . # # . # # . . \n",
    ". . # . . . . . . . . . . . . . . . . # . . . . # \n",
    ". # . . . . # . . . . . # . . . . . . # . G . . # \n",
    ". # . . . . . . # . # . . # . . . # . . . . . . # \n",
    "# . . . . # . . . # . # . . # . . # . . . . . # # \n",
    ". . # # # # # # . . . C . . . # . . # . # . . # # \n",
    ". . . # . . . . # . . # . # . # . . # . # . C C . \n",
    ". . . . . . . . . # # . . . . . C # . . . . . . . \n",
    "# . # # . . . . . # . . . . C # . # . # . . . . . \n",
    ". . # # . . . C . . . . . . . . # . . . # . . . # \n",
    ". . . # . . # . # . # . . G . . . . . # # # . . . \n",
    ". # # . . . . . . . . . . . . . . . . . # # # . . \n",
    "\n",
    "```"
   ]
  },
  {
   "cell_type": "code",
   "execution_count": 8,
   "metadata": {},
   "outputs": [
    {
     "data": {
      "text/plain": [
       "GameBoard(25 X 25, player: 4)\n",
       "# . . . . # . . . . . G C . . # . . . . # # # . # \n",
       "# # . . . . # . . . # . . . C . # # . # C # . . # \n",
       "# . . . . # . . . . . . C C . . . # . . . . . . . \n",
       ". . . . . . . . . . # # . # . # # . . # # # . # . \n",
       ". . . . . . # . . . # . . # . # # . . . . # . . # \n",
       ". . . # . . . . . . . . . # # # . . . . # . . # . \n",
       ". . C # . # . . # # # . . . . # # C . # # C # . . \n",
       ". . . # . . . . # . . . # . # # . . . C # G . . # \n",
       "# # . . . . . . # . . # . . . . . . . # . . . # . \n",
       ". . # . . . . . . # . # . . . . . . # # . . . # . \n",
       ". . . . # . . . . . # . . # . # . . . # # # . # . \n",
       ". . . # . . . . . # # . . # # . # . . . # . . . . \n",
       "# . # . . . . C # . C . . . . . # . . # # # . # . \n",
       ". C # . # G . . . . . . . # # # . # . . # # . . . \n",
       ". . . C . # . . . . . . # . . . . . # . # # . . . \n",
       ". . . . # . . . . . # # . # . # . . # # # . . . . \n",
       ". . . # . . . # . . . # . . . . # . . . . . . . # \n",
       ". . . # . . . . . . . # # . . . # # # . # . . . # \n",
       "# # . . . . . . . # . . . . C . . . . . . . . . . \n",
       "# . . . . . . # . # C . C # # . . . . . # # C . # \n",
       ". . . # . . . . . . # . # . # . . . . # . . . # # \n",
       ". # # # # . # . . . # . C . . . . . . . . # . . . \n",
       ". # . # . . # . # . . . . . # . # # . . . . # . . \n",
       ". # . . . . . # # # . . C . . . . . # # . # . # . \n",
       "# . . # . . . . # . G . # . . # # . . # # . . . C "
      ]
     },
     "execution_count": 8,
     "metadata": {},
     "output_type": "execute_result"
    }
   ],
   "source": [
    "test_board"
   ]
  },
  {
   "cell_type": "code",
   "execution_count": 11,
   "metadata": {},
   "outputs": [
    {
     "name": "stdout",
     "output_type": "stream",
     "text": [
      "# . . . . . . # . . . . # # . . # . . . \n",
      ". . # . . . . . . . # . # # . # . . . # \n",
      ". C . . . . . . . # # # # # . . # . . . \n",
      "C . # . . . . . . . . . # # . # # . . . \n",
      "# # # . # . # . C . . . C . . . . . # . \n",
      ". . . # C . . . . # # G . . # # . . . . \n",
      ". C # . . . . # # C . . # . # . # # # # \n",
      ". . . . . # . # . . # . . # # . . # # . \n",
      ". . . # . # . . . # # . . # # . . . . . \n",
      ". . # # C . . . . # . . # . # # . . # . \n",
      ". # C C . . . . . . . # # . . . . # # . \n",
      "# . . # # # . . # # . # . . # . . . C # \n",
      "# . . . . # . . . . C C . . . . # # # . \n",
      ". # . . . . # . # # . . . # . # # . . C \n",
      "C . . . . . . . . . . . # # . . . . # # \n",
      "# # . . # # # # # . . . . . . # # . # # \n",
      ". . C . # . . # # # . C . # . # # . . . \n",
      ". # # . C . . . # # . . . . # # C . # . \n",
      ". G . . . C . # . . . # # . # C . C . C \n",
      ". # # . C . # # # C . . . . . # G . # # \n",
      "\n"
     ]
    }
   ],
   "source": [
    "output = \"\"\n",
    "for y in range(test_board.height):\n",
    "            for x in range(test_board.width):\n",
    "                tile = test_board.map[x][y]\n",
    "                output += tile.state.value\n",
    "                output += \" \"\n",
    "            output += \"\\n\"\n",
    "print(output)"
   ]
  },
  {
   "cell_type": "code",
   "execution_count": null,
   "metadata": {},
   "outputs": [],
   "source": []
  },
  {
   "cell_type": "code",
   "execution_count": 3,
   "metadata": {},
   "outputs": [],
   "source": [
    "test_board.generals[0].troops = 5"
   ]
  },
  {
   "cell_type": "code",
   "execution_count": 4,
   "metadata": {},
   "outputs": [
    {
     "data": {
      "text/plain": [
       "Player 0 (player-0)\n",
       "Color: None\n",
       "General: Tile((9,7), TileType.GENERAL, owner=0, troops=5)\n",
       "Troops: 0 Cities number: 0\n",
       "Cities: []"
      ]
     },
     "execution_count": 4,
     "metadata": {},
     "output_type": "execute_result"
    }
   ],
   "source": [
    "players[0]"
   ]
  },
  {
   "cell_type": "code",
   "execution_count": 5,
   "metadata": {},
   "outputs": [
    {
     "data": {
      "text/plain": [
       "Tile((9,7), TileType.GENERAL, owner=0, troops=5)"
      ]
     },
     "execution_count": 5,
     "metadata": {},
     "output_type": "execute_result"
    }
   ],
   "source": [
    "test_board[(9,7)]"
   ]
  },
  {
   "cell_type": "code",
   "execution_count": 6,
   "metadata": {},
   "outputs": [
    {
     "data": {
      "text/plain": [
       "Tile((3,0), TileType.GENERAL, owner=2, troops=0)"
      ]
     },
     "execution_count": 6,
     "metadata": {},
     "output_type": "execute_result"
    }
   ],
   "source": [
    "test_board[(3,0)]"
   ]
  },
  {
   "cell_type": "code",
   "execution_count": 29,
   "metadata": {},
   "outputs": [
    {
     "name": "stdout",
     "output_type": "stream",
     "text": [
      "[[(Tile((0,0), TileType.CITY, owner=None, troops=0), <Direction.DOWN: (0, 1)>, 5), (Tile((0,0), TileType.CITY, owner=None, troops=0), <Direction.DOWN: (0, 1)>, 5)], [(Tile((0,0), TileType.CITY, owner=None, troops=0), <Direction.DOWN: (0, 1)>, 2), (Tile((0,0), TileType.CITY, owner=None, troops=0), <Direction.DOWN: (0, 1)>, 1)]]\n",
      "[[], [(Tile((0,0), TileType.CITY, owner=None, troops=0), <Direction.DOWN: (0, 1)>, 2), (Tile((0,0), TileType.CITY, owner=None, troops=0), <Direction.DOWN: (0, 1)>, 1)]]\n"
     ]
    }
   ],
   "source": [
    "aaf = [[(Tile(0,0,TileType.CITY),Direction.DOWN,5),(Tile(0,0,TileType.CITY),Direction.DOWN,5)],[(Tile(0,0,TileType.CITY),Direction.DOWN,2),(Tile(0,0,TileType.CITY),Direction.DOWN,1)]] \n",
    "print(aaf)\n",
    "aaf[0].clear()\n",
    "print(aaf)"
   ]
  },
  {
   "cell_type": "code",
   "execution_count": 102,
   "metadata": {},
   "outputs": [
    {
     "data": {
      "text/plain": [
       "[1, 2, 3333]"
      ]
     },
     "execution_count": 102,
     "metadata": {},
     "output_type": "execute_result"
    }
   ],
   "source": [
    "list((1,2,3333))"
   ]
  },
  {
   "cell_type": "code",
   "execution_count": 4,
   "metadata": {},
   "outputs": [
    {
     "name": "stdout",
     "output_type": "stream",
     "text": [
      "1 2 3\n",
      "4 5\n"
     ]
    }
   ],
   "source": [
    "def aaaa(b,c,d,e=5,f=8):\n",
    "    print(b,c,d)\n",
    "    print(e,f)\n",
    "\n",
    "aaaa(1,2,3,**{\"e\":4,\"f\":5})"
   ]
  },
  {
   "cell_type": "code",
   "execution_count": null,
   "metadata": {},
   "outputs": [],
   "source": [
    "aaaaaaaa = {\"a\":1,\"b\":2,\"c\":3}\n",
    "for "
   ]
  }
 ],
 "metadata": {
  "kernelspec": {
   "display_name": "generals",
   "language": "python",
   "name": "python3"
  },
  "language_info": {
   "codemirror_mode": {
    "name": "ipython",
    "version": 3
   },
   "file_extension": ".py",
   "mimetype": "text/x-python",
   "name": "python",
   "nbconvert_exporter": "python",
   "pygments_lexer": "ipython3",
   "version": "3.11.11"
  }
 },
 "nbformat": 4,
 "nbformat_minor": 2
}
